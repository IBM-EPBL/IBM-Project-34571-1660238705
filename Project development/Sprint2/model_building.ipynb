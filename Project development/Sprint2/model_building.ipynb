{
  "nbformat": 4,
  "nbformat_minor": 0,
  "metadata": {
    "colab": {
      "provenance": [],
      "collapsed_sections": []
    },
    "kernelspec": {
      "name": "python3",
      "display_name": "Python 3"
    },
    "language_info": {
      "name": "python"
    }
  },
  "cells": [
    {
      "cell_type": "code",
      "execution_count": null,
      "metadata": {
        "id": "Mj8PKM0aN7sd"
      },
      "outputs": [],
      "source": [
        "#import keras libraries\n",
        "from keras.models import Sequential\n",
        "from keras.layers import Dense\n",
        "from keras.layers import Convolution2D\n",
        "from keras.layers import MaxPooling2D\n",
        "from keras.layers import Flatten"
      ]
    },
    {
      "cell_type": "code",
      "source": [
        "#image preprocessing(or) image augmentation\n",
        "from keras.preprocessing.image import ImageDataGenerator"
      ],
      "metadata": {
        "id": "ReXdk7nUOVTk"
      },
      "execution_count": null,
      "outputs": []
    },
    {
      "cell_type": "code",
      "source": [
        "train_datagen = ImageDataGenerator(rescale=1./255,shear_range=0.2,zoom_range=0.2,horizontal_flip=True,vertical_flip=True)\n",
        "#rescale => rescaling pixel value from 0 to 255 to 0 to 1\n",
        "#shear_range=> counter clock wise rotation(anti clock)"
      ],
      "metadata": {
        "id": "uXT5nL0mOVHX"
      },
      "execution_count": null,
      "outputs": []
    },
    {
      "cell_type": "code",
      "source": [
        "test_datagen = ImageDataGenerator(rescale=1./255)"
      ],
      "metadata": {
        "id": "T9UJ-qHuOVD4"
      },
      "execution_count": null,
      "outputs": []
    },
    {
      "cell_type": "code",
      "source": [
        "x_train = train_datagen.flow_from_directory(\"/content/drive/MyDrive/ibm project/TRAIN_SET\",target_size=(64,64),batch_size=32,class_mode=\"binary\")"
      ],
      "metadata": {
        "id": "nMstedxOOVAD"
      },
      "execution_count": null,
      "outputs": []
    },
    {
      "cell_type": "markdown",
      "source": [
        "Found 4118 images belonging to 5 classes."
      ],
      "metadata": {
        "id": "njpeSRcgOnqC"
      }
    },
    {
      "cell_type": "code",
      "source": [
        "x_test = test_datagen.flow_from_directory(\"/content/drive/MyDrive/ibm project/TEST_SET\",target_size=(64,64),batch_size=32,class_mode=\"binary\")"
      ],
      "metadata": {
        "id": "nxmbPWjXOUtX"
      },
      "execution_count": null,
      "outputs": []
    },
    {
      "cell_type": "markdown",
      "source": [
        "Found 929 images belonging to 3 classes."
      ],
      "metadata": {
        "id": "O7aXwc2sOxMD"
      }
    },
    {
      "cell_type": "code",
      "source": [
        "x_train.class_indices"
      ],
      "metadata": {
        "id": "YjvAx9MSOy2I"
      },
      "execution_count": null,
      "outputs": []
    },
    {
      "cell_type": "markdown",
      "source": [
        "{'APPLES': 0, 'BANANA': 1, 'ORANGE': 2, 'PINEAPPLE': 3, 'WATERMELON': 4}"
      ],
      "metadata": {
        "id": "XGzv5LrkO3ty"
      }
    },
    {
      "cell_type": "code",
      "source": [
        "#checking the number of classes\n",
        "print(x_test.class_indices)"
      ],
      "metadata": {
        "id": "-vk0ardnO6lS"
      },
      "execution_count": null,
      "outputs": []
    },
    {
      "cell_type": "markdown",
      "source": [
        "{'APPLES': 0, 'BANANA': 1, 'ORANGE': 2}"
      ],
      "metadata": {
        "id": "Vd7XnZPzO9KC"
      }
    },
    {
      "cell_type": "code",
      "source": [
        "from collections import Counter as c\n",
        "c(x_train .labels)"
      ],
      "metadata": {
        "id": "vBcL8WgxPAZ6"
      },
      "execution_count": null,
      "outputs": []
    },
    {
      "cell_type": "markdown",
      "source": [
        "Counter({0: 995, 1: 1354, 2: 1019, 3: 275, 4: 475})"
      ],
      "metadata": {
        "id": "O_wAxsFpPEQJ"
      }
    },
    {
      "cell_type": "code",
      "source": [
        "#Initializing the model\n",
        "model = Sequential()"
      ],
      "metadata": {
        "id": "0Vmcn0EhPGQB"
      },
      "execution_count": null,
      "outputs": []
    },
    {
      "cell_type": "code",
      "source": [
        "# add First convolution layer"
      ],
      "metadata": {
        "id": "BY3tfFnMPJiK"
      },
      "execution_count": null,
      "outputs": []
    },
    {
      "cell_type": "code",
      "source": [
        "model.add(Convolution2D(32,(3,3),input_shape=(64,64,3),activation=\"relu\"))\n",
        "# 32 indicates => no of feature detectors\n",
        "#(3,3)=> kernel size (feature detector size)"
      ],
      "metadata": {
        "id": "dJ0zSYxrPJWh"
      },
      "execution_count": null,
      "outputs": []
    },
    {
      "cell_type": "code",
      "source": [
        "# add Maxpooling layer"
      ],
      "metadata": {
        "id": "JLrmO8QjPJPB"
      },
      "execution_count": null,
      "outputs": []
    },
    {
      "cell_type": "code",
      "source": [
        "model.add(MaxPooling2D(pool_size=(2,2)))"
      ],
      "metadata": {
        "id": "p1jqGq4aPJFh"
      },
      "execution_count": null,
      "outputs": []
    },
    {
      "cell_type": "code",
      "source": [
        "#Second convolution layer and pooling\n",
        "model.add(Convolution2D(32,(3,3),activation='relu'))"
      ],
      "metadata": {
        "id": "id15dh6OPUB7"
      },
      "execution_count": null,
      "outputs": []
    },
    {
      "cell_type": "code",
      "source": [
        "model.add(MaxPooling2D(pool_size=(2,2)))"
      ],
      "metadata": {
        "id": "dkFkGMNsPT-6"
      },
      "execution_count": null,
      "outputs": []
    },
    {
      "cell_type": "code",
      "source": [
        "#Flattening the layers\n",
        "model.add(Flatten())"
      ],
      "metadata": {
        "id": "TABIYOE6Paig"
      },
      "execution_count": null,
      "outputs": []
    },
    {
      "cell_type": "code",
      "source": [
        "model.add(Dense(units=128,activation='relu'))"
      ],
      "metadata": {
        "id": "8ehvvtnEPaOg"
      },
      "execution_count": null,
      "outputs": []
    },
    {
      "cell_type": "code",
      "source": [
        "model.add(Dense(units=5,activation='softmax'))"
      ],
      "metadata": {
        "id": "arxRGeEzPegw"
      },
      "execution_count": null,
      "outputs": []
    },
    {
      "cell_type": "code",
      "source": [
        "# add flatten layer => input to your ANN"
      ],
      "metadata": {
        "id": "nh_OkyxPPeba"
      },
      "execution_count": null,
      "outputs": []
    },
    {
      "cell_type": "code",
      "source": [
        "model.add(Flatten())"
      ],
      "metadata": {
        "id": "pPj0wyZJPjgD"
      },
      "execution_count": null,
      "outputs": []
    },
    {
      "cell_type": "code",
      "source": [
        "model.summary()"
      ],
      "metadata": {
        "id": "xDwCG-rnPjbB"
      },
      "execution_count": null,
      "outputs": []
    },
    {
      "cell_type": "code",
      "source": [
        "# adding dense layer"
      ],
      "metadata": {
        "id": "Z0Du3P6JQueU"
      },
      "execution_count": null,
      "outputs": []
    },
    {
      "cell_type": "code",
      "source": [
        "#hidden layer"
      ],
      "metadata": {
        "id": "76kH_-_4QuWe"
      },
      "execution_count": null,
      "outputs": []
    },
    {
      "cell_type": "code",
      "source": [
        "model.add(Dense(units=300,kernel_initializer=\"random_uniform\",activation=\"relu\"))"
      ],
      "metadata": {
        "id": "OLDOgvBCQuRu"
      },
      "execution_count": null,
      "outputs": []
    },
    {
      "cell_type": "code",
      "source": [
        "model.add(Dense(units=200,kernel_initializer=\"random_uniform\",activation=\"relu\"))"
      ],
      "metadata": {
        "id": "i45fXt4GQzRd"
      },
      "execution_count": null,
      "outputs": []
    },
    {
      "cell_type": "code",
      "source": [
        "#output layer"
      ],
      "metadata": {
        "id": "EQrctQp9QzOy"
      },
      "execution_count": null,
      "outputs": []
    },
    {
      "cell_type": "code",
      "source": [
        "model.add(Dense(units=4,kernel_initializer=\"random_uniform\",activation=\"softmax\"))\n",
        "len(x_train)"
      ],
      "metadata": {
        "id": "fei_MfeQQzL-"
      },
      "execution_count": null,
      "outputs": []
    },
    {
      "cell_type": "markdown",
      "source": [
        "129"
      ],
      "metadata": {
        "id": "7clFrT4IREKe"
      }
    },
    {
      "cell_type": "code",
      "source": [
        "#Ann starts so need to add dense layers"
      ],
      "metadata": {
        "id": "Mtr7RVCkQzHM"
      },
      "execution_count": null,
      "outputs": []
    },
    {
      "cell_type": "code",
      "source": [
        "model.add(Dense(units=128,activation=\"relu\",kernel_initializer=\"random_uniform\"))"
      ],
      "metadata": {
        "id": "ZdLxfox9RHC-"
      },
      "execution_count": null,
      "outputs": []
    },
    {
      "cell_type": "code",
      "source": [
        "model.add(Dense(units=1,activation=\"sigmoid\",kernel_initializer=\"random_uniform\"))"
      ],
      "metadata": {
        "id": "R7GgrLDSRG9N"
      },
      "execution_count": null,
      "outputs": []
    },
    {
      "cell_type": "code",
      "source": [
        "#Compile the model\n",
        "model.compile(loss=\"binary_crossentropy\",optimizer=\"adam\",metrics=['accuracy'])"
      ],
      "metadata": {
        "id": "OkiFsTccRG4_"
      },
      "execution_count": null,
      "outputs": []
    },
    {
      "cell_type": "code",
      "source": [
        "#Train the model"
      ],
      "metadata": {
        "id": "iAoy74cvRNuP"
      },
      "execution_count": null,
      "outputs": []
    },
    {
      "cell_type": "code",
      "source": [
        "model.fit_generator(x_train,steps_per_epoch=len(x_train), validation_data=x_test, validation_steps=len(x_test), epochs= 20)"
      ],
      "metadata": {
        "id": "1OSPmsdwRNor"
      },
      "execution_count": null,
      "outputs": []
    },
    {
      "cell_type": "markdown",
      "source": [
        "Epoch 1/20\n",
        "129/129 [==============================] - 2459s 19s/step - loss: -0.0526 - accuracy: 0.3273 - val_loss: 0.1126 - val_accuracy: 0.4467\n",
        "Epoch 2/20\n",
        "129/129 [==============================] - 36s 277ms/step - loss: -3.0746 - accuracy: 0.3288 - val_loss: 0.2155 - val_accuracy: 0.4467\n",
        "Epoch 3/20\n",
        "129/129 [==============================] - 35s 268ms/step - loss: -8.7866 - accuracy: 0.3288 - val_loss: 0.5095 - val_accuracy: 0.4467\n",
        "Epoch 4/20\n",
        "129/129 [==============================] - 36s 281ms/step - loss: -17.7107 - accuracy: 0.3288 - val_loss: 0.9337 - val_accuracy: 0.4467\n",
        "Epoch 5/20\n",
        "129/129 [==============================] - 36s 282ms/step - loss: -29.8704 - accuracy: 0.3288 - val_loss: 1.4811 - val_accuracy: 0.4467\n",
        "Epoch 6/20\n",
        "129/129 [==============================] - 36s 277ms/step - loss: -45.0273 - accuracy: 0.3288 - val_loss: 2.1422 - val_accuracy: 0.4467\n",
        "Epoch 7/20\n",
        "129/129 [==============================] - 35s 269ms/step - loss: -62.9152 - accuracy: 0.3288 - val_loss: 2.9106 - val_accuracy: 0.4467\n",
        "Epoch 8/20\n",
        "129/129 [==============================] - 40s 309ms/step - loss: -83.5868 - accuracy: 0.3288 - val_loss: 3.7855 - val_accuracy: 0.4467\n",
        "Epoch 9/20\n",
        "129/129 [==============================] - 36s 281ms/step - loss: -106.7443 - accuracy: 0.3288 - val_loss: 4.7640 - val_accuracy: 0.4467\n",
        "Epoch 10/20\n",
        "129/129 [==============================] - 36s 278ms/step - loss: -132.3641 - accuracy: 0.3288 - val_loss: 5.8398 - val_accuracy: 0.4467\n",
        "Epoch 11/20\n",
        "129/129 [==============================] - 35s 271ms/step - loss: -160.3758 - accuracy: 0.3288 - val_loss: 7.0081 - val_accuracy: 0.4467\n",
        "Epoch 12/20\n",
        "129/129 [==============================] - 35s 269ms/step - loss: -190.6966 - accuracy: 0.3288 - val_loss: 8.2454 - val_accuracy: 0.4467\n",
        "Epoch 13/20\n",
        "129/129 [==============================] - 36s 279ms/step - loss: -223.1146 - accuracy: 0.3288 - val_loss: 9.6145 - val_accuracy: 0.4467\n",
        "Epoch 14/20\n",
        "129/129 [==============================] - 36s 280ms/step - loss: -257.9082 - accuracy: 0.3288 - val_loss: 11.0088 - val_accuracy: 0.4467\n",
        "Epoch 15/20\n",
        "129/129 [==============================] - 37s 290ms/step - loss: -294.5687 - accuracy: 0.3288 - val_loss: 12.5175 - val_accuracy: 0.4467\n",
        "Epoch 16/20\n",
        "129/129 [==============================] - 34s 266ms/step - loss: -333.2441 - accuracy: 0.3288 - val_loss: 14.1130 - val_accuracy: 0.4467\n",
        "Epoch 17/20\n",
        "129/129 [==============================] - 36s 279ms/step - loss: -374.0325 - accuracy: 0.3288 - val_loss: 15.7641 - val_accuracy: 0.4467\n",
        "Epoch 18/20\n",
        "129/129 [==============================] - 36s 278ms/step - loss: -416.7053 - accuracy: 0.3288 - val_loss: 17.5287 - val_accuracy: 0.4467\n",
        "Epoch 19/20\n",
        "129/129 [==============================] - 35s 267ms/step - loss: -461.2285 - accuracy: 0.3288 - val_loss: 19.3238 - val_accuracy: 0.4467\n",
        "Epoch 20/20\n",
        "129/129 [==============================] - 34s 265ms/step - loss: -507.5266 - accuracy: 0.3288 - val_loss: 21.2192 - val_accuracy: 0.4467"
      ],
      "metadata": {
        "id": "unwtYwVTRWwT"
      }
    },
    {
      "cell_type": "code",
      "source": [
        "model.save(\"nutrition.h5\")"
      ],
      "metadata": {
        "id": "Hao16Wr1RZxx"
      },
      "execution_count": null,
      "outputs": []
    },
    {
      "cell_type": "code",
      "source": [
        "#Prediction the result"
      ],
      "metadata": {
        "id": "S1uXsNnXRmgM"
      },
      "execution_count": null,
      "outputs": []
    },
    {
      "cell_type": "code",
      "source": [
        "from tensorflow.keras.models import load_model\n",
        "from keras.preprocessing  import image\n",
        "model =load_model(\"nutrition.h5\")"
      ],
      "metadata": {
        "id": "0nv3LKgcRmbp"
      },
      "execution_count": null,
      "outputs": []
    },
    {
      "cell_type": "code",
      "source": [
        "import numpy as np"
      ],
      "metadata": {
        "id": "LOKgqjZSRmXh"
      },
      "execution_count": null,
      "outputs": []
    },
    {
      "cell_type": "code",
      "source": [
        "from tensorflow.keras.utils import load_img\n",
        "from tensorflow.keras.utils import img_to_array\n",
        "#loading of the image\n",
        "img = load_img(r'/content/drive/MyDrive/ibm project/Sample_Images-20221102T071233Z-001/Sample_Images/Test_Image3.jpg', grayscale=False,target_size=(64,64))\n",
        "#image to array \n",
        "x = img_to_array(img)\n",
        "#changing the shape\n",
        "x= np.expand_dims(x,axis = 0)\n",
        "predict_x=model.predict(x)\n",
        "classes_x=np.argmax(predict_x,axis = -1)\n",
        "classes_x"
      ],
      "metadata": {
        "id": "LMkydA_DRtry"
      },
      "execution_count": null,
      "outputs": []
    },
    {
      "cell_type": "markdown",
      "source": [
        "1/1 [==============================] - 0s 166ms/step\n",
        "array([0])"
      ],
      "metadata": {
        "id": "lb4ROVO_R85I"
      }
    },
    {
      "cell_type": "code",
      "source": [
        "index=['APPLES', 'BANANA', 'ORANGE', 'PINEAPPLE', 'WATERMELON']\n",
        "result=str(index[classes_x[0]])\n",
        "result"
      ],
      "metadata": {
        "id": "GU2smP5ORtm7"
      },
      "execution_count": null,
      "outputs": []
    },
    {
      "cell_type": "markdown",
      "source": [
        "'APPLES'"
      ],
      "metadata": {
        "id": "BrTI7iX3SjOX"
      }
    }
  ]
}